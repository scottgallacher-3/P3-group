{
 "cells": [
  {
   "cell_type": "code",
   "execution_count": 1,
   "metadata": {},
   "outputs": [],
   "source": [
    "import matplotlib.pyplot as plt\n",
    "import matplotlib.image as mpimg\n",
    "import numpy as np\n",
    "import os\n",
    "import subprocess\n",
    "import sys"
   ]
  },
  {
   "cell_type": "code",
   "execution_count": 8,
   "metadata": {},
   "outputs": [],
   "source": [
    "#defining functional forms for:\n",
    "#running command line commands using subprocess\n",
    "#e.g. compile c++ programs, run mathematica from within python\n",
    "\n",
    "#advised to use absolute paths, as python won't always recognise bash commands\n",
    "#which would otherwise work on command line (e.g. cd, echo, math)\n",
    "#and maintains the working directory as the one containing the notebook\n",
    "#\"math\" comes from Mathematica, thus needs Mathematica to be in the PATH to work"
   ]
  },
  {
   "cell_type": "markdown",
   "metadata": {},
   "source": [
    "## runprocess() function:\n",
    "#### general function for running a shell command with/without arguments"
   ]
  },
  {
   "cell_type": "code",
   "execution_count": 3,
   "metadata": {},
   "outputs": [],
   "source": [
    "#generalised function for running a shell command from python\n",
    "#given command, cmd, as a list where each element corresponds to an argument on command line\n",
    "#e.g. CL input: ls -l    ->   [\"ls\",\"-l\"]\n",
    "#get the stderr and stdout piped to python, then decode each from binary\n",
    "#If an error occurs, will return False so failures can be detected upon function returning\n",
    "#Otherwise, return what the output was\n",
    "#try/except used, to detect errors of input in python (i.e. subprocess fails to run)\n",
    "#then, print a message to notebook with what command was failed (and return False for failure)\n",
    "\n",
    "def runprocess(cmd):\n",
    "    #take in command (as list)\n",
    "    #then this will be passed to subprocess\n",
    "    #error occuring from within python is not handled by subprocess\n",
    "    #so need to handle problems with the actual command, using try/except\n",
    "    try:\n",
    "        process = subprocess.Popen(cmd, stdout=subprocess.PIPE, stderr=subprocess.PIPE)\n",
    "        \n",
    "        #decode the returned tuple from communicate()\n",
    "        out, err = process.communicate()\n",
    "        out = out.decode(\"UTF-8\")\n",
    "        err = err.decode(\"UTF-8\")\n",
    "        \n",
    "        #check if any error, and give boolean flag as return\n",
    "        #otherwise, good to return the command's output\n",
    "        if err != \"\":\n",
    "            print(err)\n",
    "            return False\n",
    "        else:\n",
    "            return out\n",
    "    \n",
    "    except:\n",
    "        print(\"Failed to perform command: \" + \" \".join(cmd))\n",
    "        return False"
   ]
  },
  {
   "cell_type": "markdown",
   "metadata": {},
   "source": [
    "## compilec() function:\n",
    "#### Given a c++ filetype, and a designated executable file, compiles code and either prints error message or runs the code (printing any of its outputs)"
   ]
  },
  {
   "cell_type": "code",
   "execution_count": 6,
   "metadata": {},
   "outputs": [],
   "source": [
    "def compilec(cfile, outfile):\n",
    "    #function to compile and run c/c++ code from python\n",
    "    #using the functions already defined to simplify\n",
    "    \n",
    "    #firstly, need to find the absolute path for the g++ command   ### - ignore for now\n",
    "#     cmd = runprocess([\"which\",\"g++\"])\n",
    "    #then this is given as the command to compile\n",
    "    comp = [\"/usr/bin/g++\", \"-o\", outfile, cfile]\n",
    "    \n",
    "    \n",
    "    #run the compilation subprocess:\n",
    "    out = runprocess(comp)\n",
    "    \n",
    "    #then check whether compiling generated an error (thus returned with False)\n",
    "    #if not, can proceed to running the output file\n",
    "    if out != False:\n",
    "        runprocess([\"chmod\",\"+rwx\",outfile])\n",
    "        out = runprocess([\"./\" + outfile])\n",
    "        print(out)\n",
    "        \n",
    "    \n",
    "    return"
   ]
  },
  {
   "cell_type": "markdown",
   "metadata": {},
   "source": [
    "## Mathematica run command\n",
    "#### Command to run a mathematica .m file using runprocess(). Requires file set-up with cells as initialisation cells (done from within .nb), then saved as a .m. (Keep .nb also, as easiest to edit). Any plots to be saved should be put into \"Export[filename, plot]\" form in the file. Also need to know the location of \"math\" - can be found in shell using \"which math\" (which fails in python)."
   ]
  },
  {
   "cell_type": "code",
   "execution_count": 7,
   "metadata": {},
   "outputs": [],
   "source": [
    "#python automatically uses the working directory containing the jupyter notebook\n",
    "#so need to take care with paths to files\n",
    "#safer to use absolute path\n",
    "#possible to use \"which\" command (?) or os.path.abspath\n",
    "#for now, need to know location of 'math', stored with mathematica but may not be in the PATH\n",
    "\n",
    "\n",
    "runprocess([\"/opt/mathematica/bin/math\",\"-script\", PATH+\"/vectorplotter.m\"])"
   ]
  }
 ],
 "metadata": {
  "kernelspec": {
   "display_name": "Python3 + physics extras",
   "language": "python",
   "name": "python3-physics-extras"
  },
  "language_info": {
   "codemirror_mode": {
    "name": "ipython",
    "version": 3
   },
   "file_extension": ".py",
   "mimetype": "text/x-python",
   "name": "python",
   "nbconvert_exporter": "python",
   "pygments_lexer": "ipython3",
   "version": "3.4.10"
  }
 },
 "nbformat": 4,
 "nbformat_minor": 2
}
